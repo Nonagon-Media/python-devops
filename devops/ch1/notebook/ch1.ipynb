{
 "cells": [
  {
   "cell_type": "code",
   "execution_count": 1,
   "metadata": {},
   "outputs": [
    {
     "name": "stdout",
     "output_type": "stream",
     "text": [
      "Nonagon Media\n"
     ]
    }
   ],
   "source": [
    "msg = \"Nonagon Media\"\n",
    "print(msg)"
   ]
  },
  {
   "cell_type": "code",
   "execution_count": 3,
   "metadata": {},
   "outputs": [
    {
     "name": "stdout",
     "output_type": "stream",
     "text": [
      "i is 35\n"
     ]
    }
   ],
   "source": [
    "i = 35\n",
    "if i == 45:\n",
    "    print('i is 45')\n",
    "elif i == 35:\n",
    "    print('i is 35')\n"
   ]
  },
  {
   "cell_type": "code",
   "execution_count": 4,
   "metadata": {},
   "outputs": [
    {
     "name": "stdout",
     "output_type": "stream",
     "text": [
      "0\n",
      "2\n",
      "4\n",
      "6\n",
      "8\n",
      "10\n",
      "12\n",
      "14\n",
      "16\n",
      "18\n"
     ]
    }
   ],
   "source": [
    "for i in range(10):\n",
    "    x = i*2\n",
    "    print(x)\n"
   ]
  },
  {
   "cell_type": "code",
   "execution_count": 5,
   "metadata": {},
   "outputs": [
    {
     "name": "stdout",
     "output_type": "stream",
     "text": [
      "0\n",
      "1\n",
      "2\n",
      "4\n",
      "5\n"
     ]
    }
   ],
   "source": [
    "for i in range(6):\n",
    "    if i == 3:\n",
    "        continue\n",
    "    print(i)"
   ]
  },
  {
   "cell_type": "code",
   "execution_count": 12,
   "metadata": {},
   "outputs": [
    {
     "name": "stdout",
     "output_type": "stream",
     "text": [
      "gumby\n",
      "Playdo\n",
      "Plato\n",
      "We tried to pop too many thinkers\n",
      "pop from empty list\n"
     ]
    }
   ],
   "source": [
    "thinkers = ['Plato', 'Playdo', 'gumby']\n",
    "while True:\n",
    "    try:\n",
    "        thinker = thinkers.pop()\n",
    "        print(thinker)\n",
    "    except IndexError as e:\n",
    "        print(\"We tried to pop too many thinkers\")\n",
    "        print(e)\n",
    "        break"
   ]
  },
  {
   "cell_type": "code",
   "execution_count": 14,
   "metadata": {},
   "outputs": [
    {
     "name": "stdout",
     "output_type": "stream",
     "text": [
      "<class 'type'>\n"
     ]
    },
    {
     "data": {
      "text/plain": [
       "__main__.FastCar"
      ]
     },
     "execution_count": 14,
     "metadata": {},
     "output_type": "execute_result"
    }
   ],
   "source": [
    "class FastCar():\n",
    "    pass\n",
    "\n",
    "print(type(FastCar))\n",
    "\n",
    "myCar = FastCar()\n",
    "type(myCar)\n"
   ]
  }
 ],
 "metadata": {
  "kernelspec": {
   "display_name": "n9n",
   "language": "python",
   "name": "python3"
  },
  "language_info": {
   "codemirror_mode": {
    "name": "ipython",
    "version": 3
   },
   "file_extension": ".py",
   "mimetype": "text/x-python",
   "name": "python",
   "nbconvert_exporter": "python",
   "pygments_lexer": "ipython3",
   "version": "3.10.12"
  },
  "orig_nbformat": 4
 },
 "nbformat": 4,
 "nbformat_minor": 2
}
